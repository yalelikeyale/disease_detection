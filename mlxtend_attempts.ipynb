{
 "cells": [
  {
   "cell_type": "code",
   "execution_count": null,
   "metadata": {},
   "outputs": [],
   "source": [
    "import numpy as np\n",
    "import pandas as pd\n",
    "from IPython.display import display \n",
    "\n",
    "### Training and test set\n",
    "from sklearn.metrics import roc_auc_score, roc_curve, auc\n",
    "from sklearn.preprocessing import Imputer, StandardScaler\n",
    "\n",
    "from imblearn.over_sampling import SMOTE\n",
    "\n",
    "from xgboost.sklearn import XGBClassifier\n",
    "from sklearn.naive_bayes import GaussianNB\n",
    "from sklearn.ensemble import RandomForestClassifier, GradientBoostingClassifier\n",
    "from sklearn.linear_model import LogisticRegression, SGDClassifier, LinearRegression\n",
    "from sklearn.base import clone\n",
    "from sklearn.model_selection import KFold, train_test_split, cross_val_score, GridSearchCV, StratifiedKFold, RandomizedSearchCV\n",
    "from mlxtend.classifier import StackingClassifier\n",
    "from mlens.visualization import corrmat\n",
    "import seaborn as sns\n",
    "import matplotlib.pyplot as plt\n",
    "%matplotlib inline"
   ]
  },
  {
   "cell_type": "code",
   "execution_count": null,
   "metadata": {},
   "outputs": [],
   "source": [
    "df = pd.read_csv('./all/health-diagnostics-train.csv')\n",
    "test = pd.read_csv('./all/health-diagnostics-test.csv')\n",
    "\n",
    "df.replace('#NULL!',np.nan, inplace=True)\n",
    "df.iloc[:, 0:(len(df.columns)-1)] = df.select_dtypes(include='object').apply(pd.to_numeric)\n",
    "df.dropna(inplace=True)\n",
    "test.replace('#NULL!',np.nan, inplace=True)\n",
    "test = test.select_dtypes(include='object').apply(pd.to_numeric)\n",
    "imp = Imputer(strategy='most_frequent')\n",
    "imp.fit(test)\n",
    "F_test = imp.transform(test)"
   ]
  },
  {
   "cell_type": "code",
   "execution_count": null,
   "metadata": {},
   "outputs": [],
   "source": [
    "X = df.drop('target',axis=1)\n",
    "X.reset_index(drop=True, inplace=True)\n",
    "y=df['target']\n",
    "y.reset_index(drop=True, inplace=True)\n",
    "F_test = pd.DataFrame(F_test, columns=X.columns)"
   ]
  },
  {
   "cell_type": "code",
   "execution_count": null,
   "metadata": {},
   "outputs": [],
   "source": [
    "lrc = LogisticRegression(C=10,class_weight='balanced', random_state=seed)\n",
    "sgd = SGDClassifier(loss='log', class_weight={0:0.01,1:0.99}, random_state=seed)\n",
    "rfc = RandomForestClassifier(\n",
    "    n_estimators=25,\n",
    "    max_depth=5,\n",
    "    min_impurity_decrease=0.02,\n",
    "    min_samples_leaf=0.003,\n",
    "    min_samples_split=0.01,\n",
    "    class_weight={0:0.01,1:0.99},\n",
    "    max_features='auto',\n",
    "    random_state=seed\n",
    ")\n",
    "nb = GaussianNB()\n",
    "gbc = GradientBoostingClassifier(\n",
    "    n_estimators=1000,\n",
    "    loss=\"exponential\",\n",
    "    max_features=4,\n",
    "    max_depth=3,\n",
    "    subsample=0.5,\n",
    "    learning_rate=0.005, \n",
    "    random_state=seed\n",
    ")\n",
    "sclf = StackingClassifier(classifiers=[lrc, sgd, rfc, nb], \n",
    "                          meta_classifier=gbc)"
   ]
  },
  {
   "cell_type": "code",
   "execution_count": null,
   "metadata": {},
   "outputs": [],
   "source": [
    "lrc = LogisticRegression(C=10,class_weight='balanced', random_state=seed)\n",
    "sgd = SGDClassifier(loss='log', class_weight={0:0.01,1:0.99}, random_state=seed)\n",
    "rfc = RandomForestClassifier(\n",
    "    n_estimators=25,\n",
    "    max_depth=5,\n",
    "    min_impurity_decrease=0.02,\n",
    "    min_samples_leaf=0.003,\n",
    "    min_samples_split=0.01,\n",
    "    class_weight={0:0.01,1:0.99},\n",
    "    max_features='auto',\n",
    "    random_state=seed\n",
    ")\n",
    "nb = GaussianNB()\n",
    "meta_lrc = LogisticRegression(random_state=seed)\n",
    "sclf = StackingClassifier(classifiers=[lrc,sgd, rfc, nb], \n",
    "                          meta_classifier=meta_lrc)"
   ]
  }
 ],
 "metadata": {
  "kernelspec": {
   "display_name": "Python [conda env:py36]",
   "language": "python",
   "name": "conda-env-py36-py"
  },
  "language_info": {
   "codemirror_mode": {
    "name": "ipython",
    "version": 3
   },
   "file_extension": ".py",
   "mimetype": "text/x-python",
   "name": "python",
   "nbconvert_exporter": "python",
   "pygments_lexer": "ipython3",
   "version": "3.6.6"
  }
 },
 "nbformat": 4,
 "nbformat_minor": 2
}
